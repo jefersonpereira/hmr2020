{
 "cells": [
  {
   "cell_type": "code",
   "execution_count": null,
   "metadata": {},
   "outputs": [],
   "source": [
    "import findspark  \n",
    "findspark.init()  \n",
    "import pyspark # only run after findspark.init()  \n",
    "from pyspark.sql import SparkSession   \n",
    "spark = SparkSession.builder.getOrCreate()  \n",
    "df = spark.sql('''select 'spark' as hello ''')  \n",
    "df.show()  "
   ]
  },
  {
   "cell_type": "code",
   "execution_count": null,
   "metadata": {},
   "outputs": [],
   "source": [
    "from pyspark.conf import SparkConfSparkSession.builder.config(conf=SparkConf())  "
   ]
  },
  {
   "cell_type": "code",
   "execution_count": null,
   "metadata": {},
   "outputs": [],
   "source": [
    "student = sqlContext.read.csv(\"...\")  "
   ]
  },
  {
   "cell_type": "code",
   "execution_count": null,
   "metadata": {},
   "outputs": [],
   "source": [
    "# To create DataFrame using SQLContext  \n",
    "student = sqlContext.read.parquet(\"...\")  \n",
    "department = sqlContext.read.parquet(\"...\")  \n",
    "student.filter(marks > 55).join(department, student.student_Id == department.id) \\  \n",
    ".groupBy(student.name, \"gender\").({\"name\": \"student_Id\", \"mark\": \"department\"})  "
   ]
  },
  {
   "cell_type": "code",
   "execution_count": null,
   "metadata": {},
   "outputs": [],
   "source": [
    "from pyspark.sql import *  \n",
    "#Create DataFrame  \n",
    "songdf = spark.read.csv(r\"C:\\Users\\DEVANSH SHARMA\\top50.csv\", inferSchema = True, header = True)  \n",
    "#Perform SQL queries  \n",
    "songdf.select(\"Genre\").show()  \n",
    "songdf.filter(songdf[\"Genre\"]==\"pop\").show()  "
   ]
  },
  {
   "cell_type": "code",
   "execution_count": null,
   "metadata": {},
   "outputs": [],
   "source": [
    "songdf.groupBy(\"Genre\").count().show()  "
   ]
  },
  {
   "cell_type": "code",
   "execution_count": null,
   "metadata": {},
   "outputs": [],
   "source": [
    "song_spotify.repartition(10).rdd.getNumPartitions()  \n",
    "data = song_spotify.union(song_spotify).repartition(\"Energy\")  \n",
    "data.show(5)  "
   ]
  }
 ],
 "metadata": {
  "kernelspec": {
   "display_name": "Python 3",
   "language": "python",
   "name": "python3"
  },
  "language_info": {
   "codemirror_mode": {
    "name": "ipython",
    "version": 3
   },
   "file_extension": ".py",
   "mimetype": "text/x-python",
   "name": "python",
   "nbconvert_exporter": "python",
   "pygments_lexer": "ipython3",
   "version": "3.8.3"
  }
 },
 "nbformat": 4,
 "nbformat_minor": 4
}
